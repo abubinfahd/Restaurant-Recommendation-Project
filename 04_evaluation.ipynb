{
 "cells": [
  {
   "cell_type": "code",
   "execution_count": 1,
   "id": "88e46a73",
   "metadata": {},
   "outputs": [],
   "source": [
    "from sklearn.feature_extraction.text import TfidfVectorizer\n",
    "from sklearn.metrics.pairwise import cosine_similarity\n",
    "import pandas as pd"
   ]
  },
  {
   "cell_type": "code",
   "execution_count": 2,
   "id": "f1063cbe",
   "metadata": {},
   "outputs": [],
   "source": [
    "# Load dataset\n",
    "df = pd.read_csv('D:\\Restaurant Recommendation Project\\data\\clean_data.csv')"
   ]
  },
  {
   "cell_type": "code",
   "execution_count": 3,
   "id": "cb695082",
   "metadata": {},
   "outputs": [],
   "source": [
    "import re\n",
    "\n",
    "# Function to clean unwanted characters in a string\n",
    "def clean_string(text):\n",
    "    # Remove any non-ASCII characters\n",
    "    # Replacing non-ASCII characters with an empty string\n",
    "    cleaned_text = re.sub(r'[^\\x00-\\x7F]+', '', text)\n",
    "    \n",
    "    # Optionally, replace multiple spaces or unwanted spaces\n",
    "    cleaned_text = re.sub(r'\\s+', ' ', cleaned_text).strip()\n",
    "    \n",
    "    return cleaned_text\n",
    "\n",
    "# Apply the function to the 'name' column to clean it\n",
    "df['name'] = df['name'].apply(lambda x: clean_string(x) if isinstance(x, str) else x)"
   ]
  },
  {
   "cell_type": "code",
   "execution_count": 4,
   "id": "90be31e6",
   "metadata": {},
   "outputs": [
    {
     "name": "stdout",
     "output_type": "stream",
     "text": [
      "[1.         0.95472335 0.95254151 ... 0.94348103 0.93333741 0.94502416]\n"
     ]
    }
   ],
   "source": [
    "# Randomly sample 60% of the data \n",
    "df_sample = df.sample(frac=0.4, random_state=42)\n",
    "\n",
    "# Initialize the TF-IDF Vectorizer\n",
    "vectorizer = TfidfVectorizer(stop_words='english')\n",
    "\n",
    "# Transform the 'text' column into a matrix of TF-IDF features\n",
    "tfidf_matrix = vectorizer.fit_transform(df_sample['text'])\n",
    "\n",
    "# Compute the cosine similarity\n",
    "cosine_sim = cosine_similarity(tfidf_matrix, tfidf_matrix)\n",
    "\n",
    "# Example: Check the similarity of the first restaurant with others\n",
    "print(cosine_sim[0])"
   ]
  },
  {
   "cell_type": "code",
   "execution_count": 5,
   "id": "1afa45ac",
   "metadata": {},
   "outputs": [
    {
     "name": "stdout",
     "output_type": "stream",
     "text": [
      "Recommended Restaurants: [\"Royce' Chocolate\", 'Yauatcha PTisserie', 'Sugar & Spice - Taj Mg Road Bengaluru', 'Ice N Spice', 'Nithyothsav - Hotel Ramanashree']\n"
     ]
    }
   ],
   "source": [
    "def get_content_based_recommendations(restaurant_name, top_n=5):\n",
    "    # Get the index of the restaurant that matches the restaurant_name\n",
    "    idx = df_sample[df_sample['name'] == restaurant_name].index[0]\n",
    "    \n",
    "    # Get the pairwise similarity scores of all restaurants with that restaurant\n",
    "    sim_scores = list(enumerate(cosine_sim[idx]))\n",
    "    \n",
    "    # Sort the restaurants based on similarity scores (highest first)\n",
    "    sim_scores = sorted(sim_scores, key=lambda x: x[1], reverse=True)\n",
    "    \n",
    "    # Exclude the input restaurant by starting from the second element (to avoid self-similarity)\n",
    "    sim_scores = sim_scores[1:]\n",
    "    \n",
    "    # List to store recommended restaurants\n",
    "    recommended_restaurants = []\n",
    "    \n",
    "    # Get the top N most similar restaurants (from the sorted list)\n",
    "    for i in sim_scores:\n",
    "        restaurant = df_sample['name'].iloc[i[0]]\n",
    "        \n",
    "        # Ensure the restaurant is not the input restaurant and not already in the recommendations list\n",
    "        if restaurant != restaurant_name and restaurant not in recommended_restaurants:\n",
    "            recommended_restaurants.append(restaurant)\n",
    "        \n",
    "        # Stop once we have the exact top N recommendations\n",
    "        if len(recommended_restaurants) == top_n:\n",
    "            break\n",
    "    \n",
    "    return recommended_restaurants\n",
    "\n",
    "# Test the recommendation function \n",
    "recommended = get_content_based_recommendations('Jalsa', top_n=5)\n",
    "print(\"Recommended Restaurants:\", recommended)\n"
   ]
  },
  {
   "cell_type": "markdown",
   "id": "278aadd0",
   "metadata": {},
   "source": [
    "### Evaluation Metrics"
   ]
  },
  {
   "cell_type": "code",
   "execution_count": null,
   "id": "ea5174c8",
   "metadata": {},
   "outputs": [
    {
     "name": "stdout",
     "output_type": "stream",
     "text": [
      "Precision at 3: 0.67\n"
     ]
    }
   ],
   "source": [
    "# precision\n",
    "def precision_at_k(recommended, relevant, k):\n",
    "    recommended_k = recommended[:k]\n",
    "    relevant_set = set(relevant)\n",
    "    \n",
    "    precision = len([item for item in recommended_k if item in relevant_set]) / k\n",
    "    return precision\n",
    "\n",
    "# Example usage\n",
    "recommended = get_content_based_recommendations('Jalsa', top_n=5)\n",
    "# relevant_restaurants = ['Spice Elephant', 'Tandoor House', 'The Curry Club']\n",
    "relevant_restaurants = ['Royce\\' Chocolate', 'Yauatcha Patisserie', 'Sugar & Spice - Taj Mg Road Bengaluru']\n",
    "precision = precision_at_k(recommended, relevant_restaurants, k=3)\n",
    "print(f\"Precision at 3: {precision:.2f}\")\n"
   ]
  },
  {
   "cell_type": "markdown",
   "id": "84c8c9a8",
   "metadata": {},
   "source": [
    "Comment: Precision at 3 = 0.67 means that, on average, 67% of the top 3 recommended restaurants are relevant or correct based on your evaluation metric or ground truth."
   ]
  },
  {
   "cell_type": "code",
   "execution_count": 18,
   "id": "116d7879",
   "metadata": {},
   "outputs": [
    {
     "name": "stdout",
     "output_type": "stream",
     "text": [
      "Recall at 3: 0.67\n"
     ]
    }
   ],
   "source": [
    "# recall\n",
    "def recall_at_k(recommended, relevant, k):\n",
    "    recommended_k = recommended[:k]\n",
    "    relevant_set = set(relevant)\n",
    "    \n",
    "    recall = len([item for item in recommended_k if item in relevant_set]) / len(relevant_set)\n",
    "    return recall\n",
    "\n",
    "# Example usage\n",
    "recall = recall_at_k(recommended, relevant_restaurants, k=3)\n",
    "print(f\"Recall at 3: {recall:.2f}\")\n"
   ]
  },
  {
   "cell_type": "markdown",
   "id": "1e2a31b7",
   "metadata": {},
   "source": [
    "Comment: Recall at 3 = 0.67 indicates that the model can still find some relevant recommendations"
   ]
  },
  {
   "cell_type": "markdown",
   "id": "87bf36e9",
   "metadata": {},
   "source": [
    "### Similarity score analysis"
   ]
  },
  {
   "cell_type": "code",
   "execution_count": null,
   "id": "7c23e965",
   "metadata": {},
   "outputs": [
    {
     "name": "stdout",
     "output_type": "stream",
     "text": [
      "Top 5 Similarity Scores for 'San Churro Cafe':\n",
      "Restaurant: White Plate, Similarity Score: 1.0000\n",
      "Restaurant: Skydeck By Sherlock'S, Similarity Score: 0.9863\n",
      "Restaurant: The Barn - Bar & Kitchen, Similarity Score: 0.9716\n",
      "Restaurant: Ebony, Similarity Score: 0.9708\n",
      "Restaurant: Best Brews - Four Points By Sheraton Bengaluru..., Similarity Score: 0.9688\n"
     ]
    }
   ],
   "source": [
    "# Function to analyze similarity scores\n",
    "def analyze_similarity_scores(restaurant_name, top_n=5):\n",
    "    # Get the index of the restaurant that matches the restaurant_name\n",
    "    idx = df_sample[df_sample['name'] == restaurant_name].index[0]\n",
    "    \n",
    "    # Get the similarity scores of all restaurants with the given restaurant\n",
    "    sim_scores = list(enumerate(cosine_sim[idx]))\n",
    "    \n",
    "    # Sort the restaurants based on similarity scores (highest first)\n",
    "    sim_scores = sorted(sim_scores, key=lambda x: x[1], reverse=True)\n",
    "    \n",
    "    # Exclude the input restaurant by starting from the second element (to avoid self-similarity)\n",
    "    sim_scores = sim_scores[1:]\n",
    "    \n",
    "    # Set to store recommended restaurants and ensure no duplicates\n",
    "    recommended_restaurants_set = set()\n",
    "    \n",
    "    # List to store the top N recommended restaurants\n",
    "    recommended_restaurants = []\n",
    "    \n",
    "    # Get the top N most similar restaurants (from the sorted list)\n",
    "    for i in sim_scores:\n",
    "        restaurant = df_sample['name'].iloc[i[0]]\n",
    "        \n",
    "        # Ensure the restaurant is not the input restaurant and not already in the set\n",
    "        if restaurant != restaurant_name and restaurant not in recommended_restaurants_set:\n",
    "            recommended_restaurants.append((restaurant, i[1]))\n",
    "            recommended_restaurants_set.add(restaurant)\n",
    "        \n",
    "        # Stop once we have the exact top N recommendations\n",
    "        if len(recommended_restaurants) == top_n:\n",
    "            break\n",
    "    \n",
    "    # Display similarity scores for top N unique restaurants\n",
    "    print(f\"Top {top_n} Similarity Scores for '{restaurant_name}':\")\n",
    "    for restaurant, score in recommended_restaurants:\n",
    "        print(f\"Restaurant: {restaurant}, Similarity Score: {score:.4f}\")\n",
    "\n",
    "# Example usage\n",
    "analyze_similarity_scores('San Churro Cafe', top_n=5)\n"
   ]
  },
  {
   "cell_type": "markdown",
   "id": "c982b423",
   "metadata": {},
   "source": [
    "Comment: The analysis reveals that 'San Churro Cafe' is most similar to 'White Plate', indicating a very high degree of similarity in terms of menu items, ambience, or other factors. Other similar restaurants like 'Skydeck By Sherlock's' and 'The Barn - Bar & Kitchen' show high similarity but with slight variations, possibly in service style, target audience, or cuisine. The slightly lower similarity scores for 'Ebony' and 'Best Brews - Four Points By Sheraton Bengaluru' suggest that while they share some features, their focus may differ in aspects like food offering, dining experience, or pricing."
   ]
  },
  {
   "cell_type": "markdown",
   "id": "4361510b",
   "metadata": {},
   "source": []
  },
  {
   "cell_type": "code",
   "execution_count": 21,
   "id": "5dfb9000",
   "metadata": {},
   "outputs": [
    {
     "data": {
      "image/png": "[encoded data removed]",
      "text/plain": [
       "<Figure size 800x500 with 1 Axes>"
      ]
     },
     "metadata": {},
     "output_type": "display_data"
    }
   ],
   "source": [
    "import matplotlib.pyplot as plt\n",
    "\n",
    "# Function to visualize similarity scores distribution\n",
    "def visualize_similarity_distribution(restaurant_name, top_n=5):\n",
    "    idx = df_sample[df_sample['name'] == restaurant_name].index[0]\n",
    "    sim_scores = list(enumerate(cosine_sim[idx]))\n",
    "    \n",
    "    # Sort similarity scores in descending order\n",
    "    sim_scores = sorted(sim_scores, key=lambda x: x[1], reverse=True)\n",
    "    \n",
    "    # Exclude the input restaurant and get the top N unique recommendations\n",
    "    sim_scores = sim_scores[1:]\n",
    "    \n",
    "    # Set to keep track of unique restaurants\n",
    "    recommended_restaurants_set = set()\n",
    "    \n",
    "    # List to store the top N recommended restaurants and their similarity scores\n",
    "    unique_sim_scores = []\n",
    "    \n",
    "    for score in sim_scores:\n",
    "        restaurant = df_sample['name'].iloc[score[0]]\n",
    "        \n",
    "        # Ensure the restaurant is not the input restaurant and is unique\n",
    "        if restaurant != restaurant_name and restaurant not in recommended_restaurants_set:\n",
    "            recommended_restaurants_set.add(restaurant)\n",
    "            unique_sim_scores.append((restaurant, score[1]))\n",
    "        \n",
    "        if len(unique_sim_scores) == top_n:\n",
    "            break\n",
    "    \n",
    "    # Separate the names and scores for plotting\n",
    "    names = [restaurant for restaurant, _ in unique_sim_scores]\n",
    "    scores = [score for _, score in unique_sim_scores]\n",
    "    \n",
    "    # Plot the similarity scores\n",
    "    plt.figure(figsize=(8, 5))\n",
    "    plt.bar(range(1, top_n + 1), scores, tick_label=names)\n",
    "    plt.xlabel('Recommended Restaurants')\n",
    "    plt.ylabel('Cosine Similarity Score')\n",
    "    plt.title(f'Similarity Scores for Recommendations for {restaurant_name}')\n",
    "    plt.xticks(rotation=45, ha='right')\n",
    "    plt.show()\n",
    "\n",
    "# Example usage\n",
    "visualize_similarity_distribution('Jalsa', top_n=5)\n"
   ]
  },
  {
   "cell_type": "code",
   "execution_count": 24,
   "id": "d7d58fed",
   "metadata": {},
   "outputs": [
    {
     "name": "stdout",
     "output_type": "stream",
     "text": [
      "Evaluation metrics saved to output/evaluation.txt\n"
     ]
    }
   ],
   "source": [
    "def save_evaluation_metrics(file_path, recommended, relevant, k=5):\n",
    "    precision = precision_at_k(recommended, relevant, k)\n",
    "    recall = recall_at_k(recommended, relevant, k)\n",
    "    \n",
    "    \n",
    "    with open(file_path, 'w') as f:\n",
    "        f.write(f\"Evaluation Metrics at K={k}:\\n\")\n",
    "        f.write(f\"Precision at {k}: {precision:.2f}\\n\")\n",
    "        f.write(f\"Recall at {k}: {recall:.2f}\\n\")\n",
    "    \n",
    "    print(f\"Evaluation metrics saved to {file_path}\")\n",
    "\n",
    "# Save evaluation metrics to 'output/evaluation.txt'\n",
    "save_evaluation_metrics('output/evaluation.txt', recommended, relevant_restaurants, k=3)\n"
   ]
  }
 ],
 "metadata": {
  "kernelspec": {
   "display_name": "Python 3",
   "language": "python",
   "name": "python3"
  },
  "language_info": {
   "codemirror_mode": {
    "name": "ipython",
    "version": 3
   },
   "file_extension": ".py",
   "mimetype": "text/x-python",
   "name": "python",
   "nbconvert_exporter": "python",
   "pygments_lexer": "ipython3",
   "version": "3.10.11"
  }
 },
 "nbformat": 4,
 "nbformat_minor": 5
}
