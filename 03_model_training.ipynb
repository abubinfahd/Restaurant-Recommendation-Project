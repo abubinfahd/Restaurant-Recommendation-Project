{
 "cells": [
  {
   "cell_type": "code",
   "execution_count": 1,
   "id": "effe4456",
   "metadata": {},
   "outputs": [],
   "source": [
    "from sklearn.feature_extraction.text import TfidfVectorizer\n",
    "from sklearn.metrics.pairwise import cosine_similarity\n",
    "import pandas as pd"
   ]
  },
  {
   "cell_type": "code",
   "execution_count": 2,
   "id": "e45abcf6",
   "metadata": {},
   "outputs": [
    {
     "data": {
      "text/html": [
       "<div>\n",
       "<style scoped>\n",
       "    .dataframe tbody tr th:only-of-type {\n",
       "        vertical-align: middle;\n",
       "    }\n",
       "\n",
       "    .dataframe tbody tr th {\n",
       "        vertical-align: top;\n",
       "    }\n",
       "\n",
       "    .dataframe thead th {\n",
       "        text-align: right;\n",
       "    }\n",
       "</style>\n",
       "<table border=\"1\" class=\"dataframe\">\n",
       "  <thead>\n",
       "    <tr style=\"text-align: right;\">\n",
       "      <th></th>\n",
       "      <th>name</th>\n",
       "      <th>online_order</th>\n",
       "      <th>book_table</th>\n",
       "      <th>rate</th>\n",
       "      <th>location</th>\n",
       "      <th>cuisines</th>\n",
       "      <th>cost</th>\n",
       "      <th>reviews_list</th>\n",
       "      <th>city</th>\n",
       "      <th>Mean Rating</th>\n",
       "      <th>normalized_cost</th>\n",
       "      <th>normalized_rating</th>\n",
       "      <th>text</th>\n",
       "    </tr>\n",
       "  </thead>\n",
       "  <tbody>\n",
       "    <tr>\n",
       "      <th>0</th>\n",
       "      <td>Jalsa</td>\n",
       "      <td>True</td>\n",
       "      <td>True</td>\n",
       "      <td>4.1</td>\n",
       "      <td>Banashankari</td>\n",
       "      <td>North Indian, Mughlai, Chinese</td>\n",
       "      <td>800.0</td>\n",
       "      <td>rated 5 0 rated n great ambience looking nice ...</td>\n",
       "      <td>Banashankari</td>\n",
       "      <td>4.118182</td>\n",
       "      <td>0.841939</td>\n",
       "      <td>0.747801</td>\n",
       "      <td>north indian mughlai chinese banashankari rate...</td>\n",
       "    </tr>\n",
       "    <tr>\n",
       "      <th>1</th>\n",
       "      <td>Spice Elephant</td>\n",
       "      <td>True</td>\n",
       "      <td>False</td>\n",
       "      <td>4.1</td>\n",
       "      <td>Banashankari</td>\n",
       "      <td>Chinese, North Indian, Thai</td>\n",
       "      <td>800.0</td>\n",
       "      <td>rated 5 0 rated n great ambience looking nice ...</td>\n",
       "      <td>Banashankari</td>\n",
       "      <td>4.100000</td>\n",
       "      <td>0.841939</td>\n",
       "      <td>0.741935</td>\n",
       "      <td>chinese north indian thai banashankari rated 5...</td>\n",
       "    </tr>\n",
       "    <tr>\n",
       "      <th>2</th>\n",
       "      <td>San Churro Cafe</td>\n",
       "      <td>True</td>\n",
       "      <td>False</td>\n",
       "      <td>3.8</td>\n",
       "      <td>Banashankari</td>\n",
       "      <td>Cafe, Mexican, Italian</td>\n",
       "      <td>800.0</td>\n",
       "      <td>rated 5 0 rated n great ambience looking nice ...</td>\n",
       "      <td>Banashankari</td>\n",
       "      <td>3.800000</td>\n",
       "      <td>0.841939</td>\n",
       "      <td>0.645161</td>\n",
       "      <td>cafe mexican italian banashankari rated 5 0 ra...</td>\n",
       "    </tr>\n",
       "    <tr>\n",
       "      <th>3</th>\n",
       "      <td>Addhuri Udupi Bhojana</td>\n",
       "      <td>False</td>\n",
       "      <td>False</td>\n",
       "      <td>3.7</td>\n",
       "      <td>Banashankari</td>\n",
       "      <td>South Indian, North Indian</td>\n",
       "      <td>300.0</td>\n",
       "      <td>rated 5 0 rated n great ambience looking nice ...</td>\n",
       "      <td>Banashankari</td>\n",
       "      <td>3.700000</td>\n",
       "      <td>0.315068</td>\n",
       "      <td>0.612903</td>\n",
       "      <td>south indian north indian banashankari rated 5...</td>\n",
       "    </tr>\n",
       "    <tr>\n",
       "      <th>4</th>\n",
       "      <td>Grand Village</td>\n",
       "      <td>False</td>\n",
       "      <td>False</td>\n",
       "      <td>3.8</td>\n",
       "      <td>Basavanagudi</td>\n",
       "      <td>North Indian, Rajasthani</td>\n",
       "      <td>600.0</td>\n",
       "      <td>rated 5 0 rated n great ambience looking nice ...</td>\n",
       "      <td>Banashankari</td>\n",
       "      <td>3.800000</td>\n",
       "      <td>0.631191</td>\n",
       "      <td>0.645161</td>\n",
       "      <td>north indian rajasthani basavanagudi rated 5 0...</td>\n",
       "    </tr>\n",
       "  </tbody>\n",
       "</table>\n",
       "</div>"
      ],
      "text/plain": [
       "                    name  online_order  book_table  rate      location  \\\n",
       "0                  Jalsa          True        True   4.1  Banashankari   \n",
       "1         Spice Elephant          True       False   4.1  Banashankari   \n",
       "2        San Churro Cafe          True       False   3.8  Banashankari   \n",
       "3  Addhuri Udupi Bhojana         False       False   3.7  Banashankari   \n",
       "4          Grand Village         False       False   3.8  Basavanagudi   \n",
       "\n",
       "                         cuisines   cost  \\\n",
       "0  North Indian, Mughlai, Chinese  800.0   \n",
       "1     Chinese, North Indian, Thai  800.0   \n",
       "2          Cafe, Mexican, Italian  800.0   \n",
       "3      South Indian, North Indian  300.0   \n",
       "4        North Indian, Rajasthani  600.0   \n",
       "\n",
       "                                        reviews_list          city  \\\n",
       "0  rated 5 0 rated n great ambience looking nice ...  Banashankari   \n",
       "1  rated 5 0 rated n great ambience looking nice ...  Banashankari   \n",
       "2  rated 5 0 rated n great ambience looking nice ...  Banashankari   \n",
       "3  rated 5 0 rated n great ambience looking nice ...  Banashankari   \n",
       "4  rated 5 0 rated n great ambience looking nice ...  Banashankari   \n",
       "\n",
       "   Mean Rating  normalized_cost  normalized_rating  \\\n",
       "0     4.118182         0.841939           0.747801   \n",
       "1     4.100000         0.841939           0.741935   \n",
       "2     3.800000         0.841939           0.645161   \n",
       "3     3.700000         0.315068           0.612903   \n",
       "4     3.800000         0.631191           0.645161   \n",
       "\n",
       "                                                text  \n",
       "0  north indian mughlai chinese banashankari rate...  \n",
       "1  chinese north indian thai banashankari rated 5...  \n",
       "2  cafe mexican italian banashankari rated 5 0 ra...  \n",
       "3  south indian north indian banashankari rated 5...  \n",
       "4  north indian rajasthani basavanagudi rated 5 0...  "
      ]
     },
     "execution_count": 2,
     "metadata": {},
     "output_type": "execute_result"
    }
   ],
   "source": [
    "# Load dataset\n",
    "df = pd.read_csv('D:\\Restaurant Recommendation Project\\data\\clean_data.csv')\n",
    "df.head()"
   ]
  },
  {
   "cell_type": "code",
   "execution_count": 16,
   "id": "e6d055db",
   "metadata": {},
   "outputs": [
    {
     "name": "stdout",
     "output_type": "stream",
     "text": [
      "0                    Jalsa\n",
      "1           Spice Elephant\n",
      "2          San Churro Cafe\n",
      "3    Addhuri Udupi Bhojana\n",
      "4            Grand Village\n",
      "Name: name, dtype: object\n"
     ]
    }
   ],
   "source": [
    "import re\n",
    "\n",
    "# Function to clean unwanted characters in a string\n",
    "def clean_string(text):\n",
    "    # Remove any non-ASCII characters\n",
    "    # Replacing non-ASCII characters with an empty string\n",
    "    cleaned_text = re.sub(r'[^\\x00-\\x7F]+', '', text)\n",
    "    \n",
    "    # Optionally, replace multiple spaces or unwanted spaces\n",
    "    cleaned_text = re.sub(r'\\s+', ' ', cleaned_text).strip()\n",
    "    \n",
    "    return cleaned_text\n",
    "\n",
    "# Apply the function to the 'name' column to clean it\n",
    "df['name'] = df['name'].apply(lambda x: clean_string(x) if isinstance(x, str) else x)\n",
    "\n",
    "# Check the cleaned 'name' column\n",
    "print(df['name'].head())\n"
   ]
  },
  {
   "cell_type": "markdown",
   "id": "fc8db9ae",
   "metadata": {},
   "source": [
    "### \"Due to memory constraints, I utilized 40% of the dataset.\"\n"
   ]
  },
  {
   "cell_type": "code",
   "execution_count": 17,
   "id": "2d579463",
   "metadata": {},
   "outputs": [
    {
     "name": "stdout",
     "output_type": "stream",
     "text": [
      "[1.         0.95472335 0.95254151 ... 0.94348103 0.93333741 0.94502416]\n"
     ]
    }
   ],
   "source": [
    "# Randomly sample 60% of the data \n",
    "df_sample = df.sample(frac=0.4, random_state=42)\n",
    "\n",
    "# Initialize the TF-IDF Vectorizer\n",
    "vectorizer = TfidfVectorizer(stop_words='english')\n",
    "\n",
    "# Transform the 'text' column into a matrix of TF-IDF features\n",
    "tfidf_matrix = vectorizer.fit_transform(df_sample['text'])\n",
    "\n",
    "# Compute the cosine similarity\n",
    "cosine_sim = cosine_similarity(tfidf_matrix, tfidf_matrix)\n",
    "\n",
    "# Example: Check the similarity of the first restaurant with others\n",
    "print(cosine_sim[0])\n"
   ]
  },
  {
   "cell_type": "code",
   "execution_count": 25,
   "id": "67e84370",
   "metadata": {},
   "outputs": [
    {
     "name": "stdout",
     "output_type": "stream",
     "text": [
      "Recommended Restaurants: [\"Royce' Chocolate\", 'Yauatcha PTisserie', 'Sugar & Spice - Taj Mg Road Bengaluru', 'Ice N Spice', 'Nithyothsav - Hotel Ramanashree']\n"
     ]
    }
   ],
   "source": [
    "def get_content_based_recommendations(restaurant_name, top_n=5):\n",
    "    # Get the index of the restaurant that matches the restaurant_name\n",
    "    idx = df_sample[df_sample['name'] == restaurant_name].index[0]\n",
    "    \n",
    "    # Get the pairwise similarity scores of all restaurants with that restaurant\n",
    "    sim_scores = list(enumerate(cosine_sim[idx]))\n",
    "    \n",
    "    # Sort the restaurants based on similarity scores (highest first)\n",
    "    sim_scores = sorted(sim_scores, key=lambda x: x[1], reverse=True)\n",
    "    \n",
    "    # Exclude the input restaurant by starting from the second element (to avoid self-similarity)\n",
    "    sim_scores = sim_scores[1:]\n",
    "    \n",
    "    # List to store recommended restaurants\n",
    "    recommended_restaurants = []\n",
    "    \n",
    "    # Get the top N most similar restaurants (from the sorted list)\n",
    "    for i in sim_scores:\n",
    "        restaurant = df_sample['name'].iloc[i[0]]\n",
    "        \n",
    "        # Ensure the restaurant is not the input restaurant and not already in the recommendations list\n",
    "        if restaurant != restaurant_name and restaurant not in recommended_restaurants:\n",
    "            recommended_restaurants.append(restaurant)\n",
    "        \n",
    "        # Stop once we have the exact top N recommendations\n",
    "        if len(recommended_restaurants) == top_n:\n",
    "            break\n",
    "    \n",
    "    return recommended_restaurants\n",
    "\n",
    "# Test the recommendation function \n",
    "recommended = get_content_based_recommendations('Jalsa', top_n=5)\n",
    "print(\"Recommended Restaurants:\", recommended)\n"
   ]
  },
  {
   "cell_type": "code",
   "execution_count": 26,
   "id": "4e1e3d44",
   "metadata": {},
   "outputs": [
    {
     "name": "stdout",
     "output_type": "stream",
     "text": [
      "Function and dependencies saved successfully!\n"
     ]
    }
   ],
   "source": [
    "import pickle\n",
    "\n",
    "# Save the function separately\n",
    "with open('models/get_content_based_recommendations.pkl', 'wb') as f:\n",
    "    pickle.dump(get_content_based_recommendations, f)\n",
    "\n",
    "# Save the DataFrame (df_sample) separately\n",
    "with open('models/df_sample.pkl', 'wb') as f:\n",
    "    pickle.dump(df_sample, f)\n",
    "\n",
    "# Save the cosine similarity matrix (cosine_sim) separately\n",
    "with open('models/cosine_sim.pkl', 'wb') as f:\n",
    "    pickle.dump(cosine_sim, f)\n",
    "\n",
    "print(\"Function and dependencies saved successfully!\")\n"
   ]
  },
  {
   "cell_type": "code",
   "execution_count": 27,
   "id": "7e1c1f47",
   "metadata": {},
   "outputs": [
    {
     "name": "stdout",
     "output_type": "stream",
     "text": [
      "Recommended Restaurants: [\"Royce' Chocolate\", 'Yauatcha PTisserie', 'Sugar & Spice - Taj Mg Road Bengaluru', 'Ice N Spice', 'Nithyothsav - Hotel Ramanashree']\n"
     ]
    }
   ],
   "source": [
    "# Load the function\n",
    "with open('models/get_content_based_recommendations.pkl', 'rb') as f:\n",
    "    get_content_based_recommendations = pickle.load(f)\n",
    "\n",
    "# Load the DataFrame (df_sample)\n",
    "with open('models/df_sample.pkl', 'rb') as f:\n",
    "    df_sample = pickle.load(f)\n",
    "\n",
    "# Load the cosine similarity matrix (cosine_sim)\n",
    "with open('models/cosine_sim.pkl', 'rb') as f:\n",
    "    cosine_sim = pickle.load(f)\n",
    "\n",
    "# Test the recommendation function (example: for 'Jalsa')\n",
    "recommended = get_content_based_recommendations('Jalsa', top_n=5)\n",
    "print(\"Recommended Restaurants:\", recommended)\n"
   ]
  }
 ],
 "metadata": {
  "kernelspec": {
   "display_name": "Python 3",
   "language": "python",
   "name": "python3"
  },
  "language_info": {
   "codemirror_mode": {
    "name": "ipython",
    "version": 3
   },
   "file_extension": ".py",
   "mimetype": "text/x-python",
   "name": "python",
   "nbconvert_exporter": "python",
   "pygments_lexer": "ipython3",
   "version": "3.10.11"
  }
 },
 "nbformat": 4,
 "nbformat_minor": 5
}
